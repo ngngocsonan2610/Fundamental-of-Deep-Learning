{
 "cells": [
  {
   "cell_type": "markdown",
   "metadata": {},
   "source": [
    "# Autoencoder \n",
    "## VAE\n",
    "- https://forum.machinelearningcoban.com/t/variational-autoencoder-vae-co-ban/6494\n",
    "## GAN\n",
    "https://viblo.asia/p/generative-adversarial-networksgan-va-ung-dung-cua-no-trong-deepfakes-jvElagwdKkw\n",
    "- [1](https://www.youtube.com/watch?v=Zt7YsgUOOPA)\n",
    "- [GAN Application - nhận diện biển số](https://www.facebook.com/nttuan8.AI4E/posts/177592950487562), [License Plate Image Enhancement](https://towardsdatascience.com/license-plate-image-enhancement-5a170475bec1)\n",
    "\n",
    "## Graph NN\n",
    "- [# Graph Neural Network](https://viblo.asia/p/deep-learning-graph-neural-network-a-literature-review-and-applications-6J3ZgP0qlmB)"
   ]
  },
  {
   "cell_type": "code",
   "execution_count": null,
   "metadata": {},
   "outputs": [],
   "source": []
  },
  {
   "cell_type": "code",
   "execution_count": null,
   "metadata": {},
   "outputs": [],
   "source": []
  },
  {
   "cell_type": "code",
   "execution_count": null,
   "metadata": {},
   "outputs": [],
   "source": []
  },
  {
   "cell_type": "code",
   "execution_count": null,
   "metadata": {},
   "outputs": [],
   "source": []
  },
  {
   "cell_type": "code",
   "execution_count": null,
   "metadata": {},
   "outputs": [],
   "source": []
  }
 ],
 "metadata": {
  "kernelspec": {
   "display_name": "Python 3",
   "language": "python",
   "name": "python3"
  },
  "language_info": {
   "codemirror_mode": {
    "name": "ipython",
    "version": 3
   },
   "file_extension": ".py",
   "mimetype": "text/x-python",
   "name": "python",
   "nbconvert_exporter": "python",
   "pygments_lexer": "ipython3",
   "version": "3.8.3"
  }
 },
 "nbformat": 4,
 "nbformat_minor": 4
}
