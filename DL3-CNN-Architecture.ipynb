{
 "cells": [
  {
   "cell_type": "markdown",
   "metadata": {},
   "source": [
    "Table of Content\n",
    "- RCNN\n",
    "- [SSD](#SSD)\n",
    "- [YOLO](#YOLO)\n",
    "- "
   ]
  },
  {
   "cell_type": "markdown",
   "metadata": {},
   "source": [
    "# Regions CNN - Object Detection (2014)\n",
    "- Là cấu trúc khời đầu cho Object Detection để tìm ra các box của vật thể\n",
    "    - Xem thêm reface-detection để biết ứng dụng trong nhận dạng khuông mặt\n",
    "- Cần sử dụng 1 số search algorithm\n",
    "    - [Selective search](#Selective-Search)"
   ]
  },
  {
   "cell_type": "markdown",
   "metadata": {},
   "source": [
    "Ý tưởng thuật toán R-CNN khá đơn giản\n",
    "- Bước 1: Dùng Selective Search algorithm để lấy ra khoảng 2000 bounding box trong input mà có khả năng chứa đối tượng.\n",
    "- Bước 2: Cần thêm 1 lớp background (không chứa đối tượng nào), để tách background ra khỏi ds box, giảm số lượng box\n",
    "- Bước 3.1: Sau đó các region proposal được resize lại về cùng kích thước và thực hiện transfer learning với feature extractor, sau đó các extracted feature được cho vào thuật toán SVM để phân loại ảnh. \n",
    "- Bước 3.2: Bên cạnh đó thì extracted feature cũng được dùng để dự đoán 4 offset values cho mỗi cạnh. Ví dụ như khi region proposal chứa người nhưng chỉ có phần thân và nửa mặt, nửa mặt còn lại không có trong region proposal đó thì offset value có thể giúp mở rộng region proposal để lấy được toàn bộ người."
   ]
  },
  {
   "cell_type": "markdown",
   "metadata": {},
   "source": [
    "<img src=\"image/rcnn1.png\" width=600 height =600>  "
   ]
  },
  {
   "cell_type": "markdown",
   "metadata": {},
   "source": [
    "Vấn đề với R-CNN\n",
    "Lúc mới xuất hiện thì thuật toán hoạt động khá tốt cho với các thuật toán về computer vision trước đó nhờ vào CNN, tuy nhiên nó vẫn có khá nhiều hạn chế:\n",
    "- Vì với mỗi ảnh ta cần phân loại các class cho 2000 region proposal nên thời gian train rất lâu.\n",
    "- Không thể áp dụng cho real-time thì mỗi ảnh trong test set mất tới 47s để xử lý.\n",
    "- Hạn chế khi chuyển đổi về mobile version"
   ]
  },
  {
   "cell_type": "markdown",
   "metadata": {},
   "source": [
    "## Fast RCNN (2015)"
   ]
  },
  {
   "cell_type": "markdown",
   "metadata": {},
   "source": [
    "Sử dụng Region of Interest (RoI) Pooling"
   ]
  },
  {
   "cell_type": "markdown",
   "metadata": {},
   "source": [
    "<img src=\"image/rcnn2.png\" width=600 height =600>  "
   ]
  },
  {
   "cell_type": "markdown",
   "metadata": {},
   "source": [
    "- Roi Pooling có cách chia nhỏ để thực hiện max pooling đặc biệt, có thể áp dụng với mọi region matrix, chính là đầu ra của conv5\n",
    "- [giải thích thêm](https://deepsense.ai/region-of-interest-pooling-explained/)"
   ]
  },
  {
   "cell_type": "markdown",
   "metadata": {},
   "source": []
  },
  {
   "cell_type": "markdown",
   "metadata": {},
   "source": [
    "## Faster RCNN (2016)"
   ]
  },
  {
   "cell_type": "markdown",
   "metadata": {},
   "source": [
    "<img src=\"image/rcnn3.png\" width=600 height =600>  "
   ]
  },
  {
   "cell_type": "markdown",
   "metadata": {},
   "source": [
    "- Faster R-CNN giải quyết được vấn đề của Fast R-CNN bằng cách thay thế Selective Search với RPN (Region Proposal Network)\n",
    "- Sử dụng Anchor box, để định vị tâm được cẩn thận hơn\n",
    "\n",
    "Resource:\n",
    "- [giải thích](https://nttuan8.com/bai-11-object-detection-voi-faster-r-cnn/)\n",
    "- [Region Proposal Network (RPN) — Backbone of Faster R-CNN](https://medium.com/egen/region-proposal-network-rpn-backbone-of-faster-r-cnn-4a744a38d7f9)"
   ]
  },
  {
   "cell_type": "markdown",
   "metadata": {},
   "source": []
  },
  {
   "cell_type": "markdown",
   "metadata": {},
   "source": []
  },
  {
   "cell_type": "markdown",
   "metadata": {},
   "source": [
    "Resources:\n",
    "- https://nttuan8.com/bai-11-object-detection-voi-faster-r-cnn/\n",
    "- https://deepmlml.com/rpn-explained.html\n",
    "- https://deepmlml.com/rpn-explained-code-pytorch.html\n",
    "- https://viblo.asia/p/faster-rcnn-for-object-detection-with-keras-aWj53Nwel6m\n",
    "- [Faster R-CNN (object detection) implemented by Keras for custom data from Google’s Open Images Dataset V4](https://towardsdatascience.com/faster-r-cnn-object-detection-implemented-by-keras-for-custom-data-from-googles-open-images-125f62b9141a)"
   ]
  },
  {
   "cell_type": "markdown",
   "metadata": {},
   "source": [
    "# YOLO\n",
    "- Các mô hình R-CNN nói chung có thể chính xác hơn, tuy nhiên họ mô hình YOLO nhanh hơn rất rất nhiều so với R-CNN, và thậm chí đạt được việc phát hiện đối tượng trong thời gian thực."
   ]
  },
  {
   "cell_type": "markdown",
   "metadata": {},
   "source": [
    "Resources:\n",
    "- [pdkhanh giải thích về Yolo và RCNN](https://phamdinhkhanh.github.io/2019/09/29/OverviewObjectDetection.html)\n",
    "- [pbquoc giải thích Yolo](https://pbcquoc.github.io/yolo/)\n",
    " "
   ]
  },
  {
   "cell_type": "markdown",
   "metadata": {},
   "source": [
    "## YOLO (2015)"
   ]
  },
  {
   "cell_type": "markdown",
   "metadata": {},
   "source": [
    "<img src=\"image/yolo1.png\" width=600 height =600>  "
   ]
  },
  {
   "cell_type": "markdown",
   "metadata": {},
   "source": [
    "Các bước xử lý trong mô hình YOLO (hình ảnh trích xuất từ bài báo gốc). \n",
    "- Đầu tiên mô hình chia hình ảnh thành một grid search kích thước S×S. \n",
    "- Trên mỗi một grid cell ta dự báo một số lượng B bounding boxes và confidence cho những boxes này và phân phối xác suất của C classes. \n",
    "- Như vậy output các dự báo là một tensor kích thước S×S×(B×5+C), giá trị 5 là các tham số của offsets của bounding box gồm x,y,w,h và confidence, C là số lượng tham số của phân phối xác suất."
   ]
  },
  {
   "cell_type": "markdown",
   "metadata": {},
   "source": []
  },
  {
   "cell_type": "markdown",
   "metadata": {},
   "source": []
  },
  {
   "cell_type": "markdown",
   "metadata": {},
   "source": [
    "## YOLOv2 (2016)"
   ]
  },
  {
   "cell_type": "markdown",
   "metadata": {},
   "source": [
    "- YOLOv2, một instance của mô hình theo như mô tả đã được đào tạo trên hai bộ dữ liệu nhận dạng đối tượng, và có khả năng dự đoán lên tới 9000 loại đối tượng khác nhau, do đó được đặt tên là YOLO9000. \n",
    "- Giống như Faster R-CNN, mô hình YOLOv2 sử dụng anchor boxes, bounding box được xác định trước với hình dạng và kích thước hợp lý được tùy chỉnh trong quá trình huấn luyện. \n",
    "- Sự lựa chọn các bounding boxes cho hình ảnh được xử lý trước bằng cách sử dụng thuật toán phân cụm k-mean trên tập dữ liệu huấn luyện.\n",
    "\n",
    "Điều quan trọng:\n",
    "- Các predicted bounding box được tinh chỉnh để cho phép các thay đổi nhỏ có tác động ít hơn đến các dự đoán, dẫn đến mô hình ổn định hơn. \n",
    "- Thay vì dự đoán trực tiếp vị trí và kích thước, các offsets (tức tọa độ tâm, chiều dài và chiều rộng) được dự đoán để di chuyển và định hình lại các pre-defined anchor boxes tại mỗi một grid cell thông qua hàm logistic."
   ]
  },
  {
   "cell_type": "markdown",
   "metadata": {},
   "source": [
    "- [ntthanh code lại yolov2](https://trungthanhnguyen0502.github.io/computer%20vision/2018/12/11/yolo_tutorial-3-c%C3%B9ng-code-l%E1%BA%A1i-yolo2/), [1](https://forum.machinelearningcoban.com/t/yolo-tutorial-cung-code-lai-yolo2/3859)"
   ]
  },
  {
   "cell_type": "markdown",
   "metadata": {},
   "source": [
    "## YOLOv3 (2018)\n",
    "- Có những thay đổi ở mạng CNN trích suất features"
   ]
  },
  {
   "cell_type": "markdown",
   "metadata": {},
   "source": []
  },
  {
   "cell_type": "markdown",
   "metadata": {},
   "source": []
  },
  {
   "cell_type": "markdown",
   "metadata": {},
   "source": [
    "# SSD"
   ]
  },
  {
   "cell_type": "markdown",
   "metadata": {},
   "source": [
    "<img src=\"image/ssd1.jpeg\" width=600 height =600></img>"
   ]
  },
  {
   "cell_type": "markdown",
   "metadata": {},
   "source": [
    "\n",
    "- [Cách tính default multi-box cho ssd](https://forum.machinelearningcoban.com/t/cach-tinh-multibox-trong-ssd/3424/4)\n",
    "\n",
    "Resources:\n",
    "- https://phamdinhkhanh.github.io/2019/10/05/SSDModelObjectDetection.html\n",
    "- https://viblo.asia/p/tim-hieu-ve-ssd-multibox-real-time-object-detection-3P0lPEPG5ox\n",
    "- [Understand Single Shot MultiBox Detector (SSD) and Implement It in Pytorch](https://medium.com/@smallfishbigsea/understand-ssd-and-implement-your-own-caa3232cd6ad)\n",
    "- [Detect custom object với Yolov3](https://medium.com/sota-tek-jsc/cnn-detect-custom-object-v%E1%BB%9Bi-yolov3-63866906b5dd)\n",
    "- [Giai thich them](https://forum.machinelearningcoban.com/t/object-detection-yolo/503)\n",
    "- [Tải code mẫu](https://forum.machinelearningcoban.com/t/tai-code-mau-object-detection-yolov3-c/6289)\n"
   ]
  },
  {
   "cell_type": "markdown",
   "metadata": {},
   "source": [
    "# Selective Search"
   ]
  },
  {
   "cell_type": "markdown",
   "metadata": {},
   "source": [
    "Resource\n",
    "- https://www.learnopencv.com/selective-search-for-object-detection-cpp-python/"
   ]
  }
 ],
 "metadata": {
  "kernelspec": {
   "display_name": "Python 3",
   "language": "python",
   "name": "python3"
  },
  "language_info": {
   "codemirror_mode": {
    "name": "ipython",
    "version": 3
   },
   "file_extension": ".py",
   "mimetype": "text/x-python",
   "name": "python",
   "nbconvert_exporter": "python",
   "pygments_lexer": "ipython3",
   "version": "3.7.3"
  }
 },
 "nbformat": 4,
 "nbformat_minor": 4
}
