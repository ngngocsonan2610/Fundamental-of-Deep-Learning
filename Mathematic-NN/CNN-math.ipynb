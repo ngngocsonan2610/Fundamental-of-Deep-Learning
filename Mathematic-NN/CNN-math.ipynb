{
 "cells": [
  {
   "cell_type": "code",
   "execution_count": 1,
   "metadata": {},
   "outputs": [
    {
     "name": "stdout",
     "output_type": "stream",
     "text": [
      "\u001b[0m\u001b[01;34mexample\u001b[0m/  \u001b[01;35mEX.png\u001b[0m  \u001b[01;34mOOP-NN\u001b[0m/  README.md  Run.ipynb\n"
     ]
    }
   ],
   "source": [
    "ls\n"
   ]
  },
  {
   "cell_type": "markdown",
   "metadata": {},
   "source": [
    "# Mathematics of NN\n",
    " 1. [Build NN for predict binary classes](#Build-NN-for-predict-binary-class)\n",
    " 2. [Build NN for predict multi-classes](#Build-NN-for-predict-multi-classes)"
   ]
  },
  {
   "cell_type": "markdown",
   "metadata": {},
   "source": [
    "## Mathematic Notation of NN\n",
    "<img src=\"../image/NN-1.png\" width=400 height = 400>\n",
    "\n",
    "$$$$"
   ]
  },
  {
   "cell_type": "markdown",
   "metadata": {},
   "source": [
    "# Build NN for predict binary-class\n",
    "\n",
    "| input | layer1 | layer2 | layer3/output | target |\n",
    "|-------|--------|--------|---------------|--------|\n",
    "| X     | tanh   | relu   | loss function | y      |\n",
    "| CxC*N | d1     | d2     | d3=C          | C*Nx1  |"
   ]
  },
  {
   "cell_type": "markdown",
   "metadata": {},
   "source": [
    "## Calculate Feedforward\n",
    "$$\n",
    "\\begin{aligned} \n",
    "\\mathbf{Z}^{(1)} &=\\mathbf{W}^{(1) T} \\mathbf{X} +  \\mathbf{b}^{(1)}\\\\ \n",
    "\\mathbf{A}^{(1)} &=\\tanh \\left(\\mathbf{Z}^{(1)}\\right) \\\\ \n",
    "\\mathbf{Z}^{(2)} &=\\mathbf{W}^{(2) T} \\mathbf{A}^{(1)} +  \\mathbf{b}^{(2)}\\\\ \n",
    "\\mathbf{A}^{(2)} &=\\max \\left(\\mathbf{Z}^{(1)}, \\mathbf{0}\\right) \\\\ \n",
    "\\mathbf{Z}^{(3)} &=\\mathbf{W}^{(3) T} \\mathbf{A}^{(2)} +  \\mathbf{b}^{(3)}\\\\ \n",
    "\\hat{\\mathbf{Y}}=\\mathbf{A}^{(3)} &=\\operatorname{softmax}\\left(\\mathbf{Z}^{(3)}\\right) \n",
    "\\end{aligned}\n",
    "$$"
   ]
  },
  {
   "cell_type": "markdown",
   "metadata": {},
   "source": [
    "$$\n",
    "J \\triangleq J(\\mathbf{W}, \\mathbf{b} ; \\mathbf{X}, \\mathbf{Y})=\\frac{1}{N} \\sum_{i}^{N}\\left(y_{i} - \\hat{y_{i}}\\right)^{2}\n",
    "$$"
   ]
  },
  {
   "cell_type": "markdown",
   "metadata": {},
   "source": [
    "## Calculate Backpropagation\n",
    "$$\n",
    "\\begin{aligned} \n",
    "\\mathbf{E}^{(3)} &=\\frac{\\partial J}{\\partial \\mathbf{Z}^{(3)}}=\\frac{2}{N}(\\hat{\\mathbf{Y}}-\\mathbf{Y})\\odot\\hat{\\mathbf{Y}}\\odot(1-\\hat{\\mathbf{Y}}) \\\\ \n",
    "\\frac{\\partial J}{\\partial \\mathbf{W}^{(3)}} &=\\mathbf{A}^{(2)} \\mathbf{E}^{(3) T} \\\\ \n",
    "\\frac{\\partial J}{\\partial \\mathbf{b}^{(3)}} &=\\sum_{n=1}^{N} \\mathbf{e}_{n}^{(3)} \\\\ \n",
    "\\mathbf{E}^{(2)} &=\\left(\\mathbf{W}^{(3)} \\mathbf{E}^{(3)}\\right) \\odot f^{\\prime}\\left(\\mathbf{Z}^{(2)}\\right) \\\\ \n",
    "\\frac{\\partial J}{\\partial \\mathbf{W}^{(2)}} &=\\mathbf{A}^{(1)} \\mathbf{E}^{(2) T}\\\\ \n",
    "\\frac{\\partial J}{\\partial \\mathbf{b}^{(2)}} &=\\sum_{n=1}^{N} \\mathbf{e}_{n}^{(2)} \\\\\n",
    "\\mathbf{E}^{(1)} &=\\left(\\mathbf{W}^{(2)} \\mathbf{E}^{(2)}\\right) \\odot f^{\\prime}\\left(\\mathbf{Z}^{(1)}\\right) \\\\ \n",
    "\\frac{\\partial J}{\\partial \\mathbf{W}^{(1)}} &=\\mathbf{A}^{(0)} \\mathbf{E}^{(1) T}=\\mathbf{X} \\mathbf{E}^{(1) T} \\\\ \n",
    "\\frac{\\partial J}{\\partial \\mathbf{b}^{(1)}} &=\\sum_{n=1}^{N} \\mathbf{e}_{n}^{(1)} \\\\\n",
    "\\end{aligned}\n",
    "$$\n"
   ]
  },
  {
   "cell_type": "code",
   "execution_count": 116,
   "metadata": {},
   "outputs": [
    {
     "data": {
      "image/png": "[encoded data removed]",
      "text/plain": [
       "<Figure size 432x288 with 1 Axes>"
      ]
     },
     "metadata": {},
     "output_type": "display_data"
    }
   ],
   "source": [
    "# To support both python 2 and python 3\n",
    "from __future__ import division, print_function, unicode_literals\n",
    "import math\n",
    "import numpy as np\n",
    "import matplotlib.pyplot as plt\n",
    "\n",
    "N = 100 # number of points per class\n",
    "d0 = 2 # dimensionality\n",
    "C = 2 # number of classes\n",
    "X = np.zeros((d0, N*C)) # data matrix (each row = single example)\n",
    "y = np.zeros(N*C, dtype='uint8') # class labels\n",
    "\n",
    "for j in range(C):\n",
    "    ix = range(N*j,N*(j+1))\n",
    "    r = np.linspace(0.0,1,N) # radius\n",
    "    t = np.linspace(j*4,(j+1)*4,N) + np.random.randn(N)*0.2 # theta\n",
    "    X[:,ix] = np.c_[r*np.sin(t), r*np.cos(t)].T\n",
    "    y[ix] = j\n",
    "# lets visualize the data:\n",
    "# plt.scatter(X[:N, 0], X[:N, 1], c=y[:N], s=40, cmap=plt.cm.Spectral)\n",
    "\n",
    "plt.plot(X[0, :N], X[1, :N], 'bs', markersize = 7);\n",
    "plt.plot(X[0, N:2*N], X[1, N:2*N], 'ro', markersize = 7);\n",
    "plt.plot(X[0, 2*N:], X[1, 2*N:], 'g^', markersize = 7);\n",
    "# plt.axis('off')\n",
    "plt.xlim([-1.5, 1.5])\n",
    "plt.ylim([-1.5, 1.5])\n",
    "cur_axes = plt.gca()\n",
    "cur_axes.axes.get_xaxis().set_ticks([])\n",
    "cur_axes.axes.get_yaxis().set_ticks([])\n",
    "\n",
    "# plt.savefig('EX.png', bbox_inches='tight', dpi = 600)\n",
    "plt.show()\n"
   ]
  },
  {
   "cell_type": "code",
   "execution_count": 122,
   "metadata": {},
   "outputs": [
    {
     "data": {
      "text/plain": [
       "(2, 200)"
      ]
     },
     "execution_count": 122,
     "metadata": {},
     "output_type": "execute_result"
    }
   ],
   "source": [
    "X.shape"
   ]
  },
  {
   "cell_type": "code",
   "execution_count": 107,
   "metadata": {},
   "outputs": [],
   "source": [
    "import numpy as np\n",
    "\n",
    "## One-hot coding\n",
    "from scipy import sparse \n",
    "def convert_labels(y, C = 3):\n",
    "    Y = sparse.coo_matrix((np.ones_like(y), \n",
    "        (y, np.arange(len(y)))), shape = (C, len(y))).toarray()\n",
    "    return Y \n",
    "\n",
    "# tanh\n",
    "def tanh(x):\n",
    "    return np.tanh(x)\n",
    "def tanh_prime(x):\n",
    "    return 1-np.tanh(x)**2\n",
    "\n",
    "# sigmoid\n",
    "def sigmoid(x):\n",
    "    return 1/(1+np.exp(-x))\n",
    "\n",
    "\n",
    "# RELU\n",
    "def relu(x):\n",
    "    return np.maximum(x,0)\n",
    "def relu_prime(x):\n",
    "    x[x<=0] = 0\n",
    "    x[x>0] = 1\n",
    "    return x\n",
    "\n",
    "# sofftmax\n",
    "def softmax(V):\n",
    "    e_V = np.exp(V - np.max(V, axis = 0, keepdims = True))\n",
    "    Z = e_V / e_V.sum(axis = 0)\n",
    "    return Z\n",
    "\n",
    "# lost mean-square error\n",
    "def loss_mse(y_true, y_pred):\n",
    "    return np.mean(np.power(y_true-y_pred, 2))\n",
    "# cost or lost Softmax Regression  \n",
    "def loss_softmax(Y, Yhat):    \n",
    "    return -np.sum(Y*np.log(Yhat))/Y.shape[1]\n",
    "\n"
   ]
  },
  {
   "cell_type": "code",
   "execution_count": 110,
   "metadata": {},
   "outputs": [
    {
     "name": "stdout",
     "output_type": "stream",
     "text": [
      "iter 0, loss: 0.250001\n",
      "iter 200, loss: 0.143969\n",
      "iter 400, loss: 0.115277\n",
      "iter 600, loss: 0.073547\n",
      "iter 800, loss: 0.066978\n",
      "iter 1000, loss: 0.027022\n",
      "iter 1200, loss: 0.012435\n",
      "iter 1400, loss: 0.008894\n",
      "iter 1600, loss: 0.007221\n",
      "iter 1800, loss: 0.006267\n",
      "training accuracy: 99.00 %\n"
     ]
    }
   ],
   "source": [
    "d0 = 2\n",
    "d1 = d2 =  h = 100 # size of hidden layer \n",
    "d3 = C = 2\n",
    "# initialize parameters randomely \n",
    "W1 = 0.01*np.random.randn(d0, d1)\n",
    "b1 = np.zeros((d1, 1))\n",
    "W2 = 0.01*np.random.randn(d1, d2)\n",
    "b2 = np.zeros((d2, 1))\n",
    "W3 = 0.01*np.random.randn(d2, d3)\n",
    "b3 = np.zeros((d3, 1))\n",
    "\n",
    "# X = X.T # each column of X is a data point \n",
    "Y = convert_labels(y, C)\n",
    "N = X.shape[1]\n",
    "eta = 1 # learning rate \n",
    "for i in range(2000):\n",
    "    ## Feedforward \n",
    "    Z1 = np.dot(W1.T, X) + b1 \n",
    "    A1 = tanh(Z1)\n",
    "    Z2 = np.dot(W2.T, A1) + b2\n",
    "    A2 = relu(Z2)\n",
    "    Z3 = np.dot(W3.T, A2) + b3\n",
    "    # Yhat = A3\n",
    "    Yhat = sigmoid(Z3)\n",
    "    \n",
    "    # compute the loss: average cross-entropy loss\n",
    "    loss = loss_mse(Y, Yhat)\n",
    "    \n",
    "    # print loss after each 1000 iterations\n",
    "    if i %200 == 0: \n",
    "        print(\"iter %d, loss: %f\" %(i, loss))\n",
    "    \n",
    "    # backpropagation\n",
    "    E3 = (2/N*(Yhat - Y )*Yhat*(1-Yhat)) \n",
    "    dW3 = np.dot(A2, E3.T)\n",
    "    db3 = np.sum(E3, axis = 1, keepdims = True)\n",
    "    E2 = np.dot(W3, E3)*relu_prime(Z2)\n",
    "    dW2 = np.dot(A1, E2.T)\n",
    "    db2 = np.sum(E2, axis = 1, keepdims = True)\n",
    "    E1 = np.dot(W2, E2)*tanh_prime(Z1)\n",
    "    dW1 = np.dot(X, E1.T)\n",
    "    db1 = np.sum(E1, axis = 1, keepdims = True)\n",
    "    \n",
    "    # Gradient Descent update \n",
    "    # import pdb; pdb.set_trace()  # breakpoint 47741f63 //\n",
    "    W3 += -eta*dW3\n",
    "    b3 += -eta*db3\n",
    "    W2 += -eta*dW2\n",
    "    b2 += -eta*db2\n",
    "    W1 += -eta*dW1 \n",
    "    b1 += -eta*db1 \n",
    "    \n",
    "\n",
    "## Feedforward \n",
    "Z1 = np.dot(W1.T, X) + b1 \n",
    "A1 = tanh(Z1)\n",
    "Z2 = np.dot(W2.T, A1) + b2\n",
    "A2 = relu(Z2)\n",
    "Z3 = np.dot(W3.T, A2) + b3\n",
    "# Yhat = A3\n",
    "Yhat = softmax(Z3)\n",
    "predicted_class = np.argmax(Yhat, axis=0)\n",
    "acc = (100*np.mean(predicted_class == y))\n",
    "print('training accuracy: %.2f %%' % acc)\n",
    "\n"
   ]
  },
  {
   "cell_type": "code",
   "execution_count": 111,
   "metadata": {},
   "outputs": [
    {
     "name": "stdout",
     "output_type": "stream",
     "text": [
      "(2, 14400)\n",
      "100\n"
     ]
    },
    {
     "data": {
      "image/png": "[encoded data removed]",
      "text/plain": [
       "<Figure size 432x288 with 1 Axes>"
      ]
     },
     "metadata": {},
     "output_type": "display_data"
    }
   ],
   "source": [
    "# Visualize results \n",
    "#Visualize \n",
    "\n",
    "\n",
    "xm = np.arange(-1.5, 1.5, 0.025)\n",
    "xlen = len(xm)\n",
    "ym = np.arange(-1.5, 1.5, 0.025)\n",
    "ylen = len(ym)\n",
    "xx, yy = np.meshgrid(xm, ym)\n",
    "\n",
    "\n",
    "# xx, yy = np.meshgrid(np.arange(x_min, x_max, h), np.arange(y_min, y_max, h))\n",
    "# xx.ravel(), yy.ravel()\n",
    "# print(np.ones((1, xx.size)).shape)\n",
    "xx1 = xx.ravel().reshape(1, xx.size)\n",
    "yy1 = yy.ravel().reshape(1, yy.size)\n",
    "\n",
    "# print(xx.shape, yy.shape)\n",
    "# XX = np.concatenate((np.ones((1, xx.size)), xx1, yy1), axis = 0)\n",
    "\n",
    "X0 = np.vstack((xx1, yy1))\n",
    "print(X0.shape)\n",
    "## Feedforward \n",
    "Z1 = np.dot(W1.T, X0) + b1 \n",
    "A1 = tanh(Z1)\n",
    "Z2 = np.dot(W2.T, A1) + b2\n",
    "A2 = relu(Z2)\n",
    "Z3 = np.dot(W3.T, A2) + b3\n",
    "# Yhat = A3\n",
    "Yhat = sigmoid(Z3)\n",
    "Z = np.argmax(Yhat, axis=0)\n",
    "\n",
    "Z = Z.reshape(xx.shape)\n",
    "CS = plt.contourf(xx, yy, Z, 200, cmap='jet', alpha = .1)\n",
    "\n",
    "# Plot also the training points\n",
    "# plt.scatter(X[:, 1], X[:, 2], c=Y, edgecolors='k', cmap=plt.cm.Paired)\n",
    "# plt.xlabel('Sepal length')\n",
    "# plt.ylabel('Sepal width')\n",
    "\n",
    "# X = X.T\n",
    "N = 100\n",
    "print(N)\n",
    "\n",
    "\n",
    "plt.plot(X[0, :N], X[1, :N], 'bs', markersize = 7);\n",
    "plt.plot(X[0, N:2*N], X[1, N:2*N], 'ro', markersize = 7);\n",
    "plt.plot(X[0, 2*N:], X[1, 2*N:], 'g^', markersize = 7);\n",
    "# plt.axis('off')\n",
    "plt.xlim([-1.5, 1.5])\n",
    "plt.ylim([-1.5, 1.5])\n",
    "cur_axes = plt.gca()\n",
    "cur_axes.axes.get_xaxis().set_ticks([])\n",
    "cur_axes.axes.get_yaxis().set_ticks([])\n",
    "\n",
    "plt.xlim(-1.5, 1.5)\n",
    "plt.ylim(-1.5, 1.5)\n",
    "plt.xticks(())\n",
    "plt.yticks(())\n",
    "plt.title('#hidden units = %d, accuracy = %.2f %%' %(d1, acc))\n",
    "# plt.axis('equal')\n",
    "# display(X[1:, :], original_label)\n",
    "fn = 'ex_res'+ str(d1) + '.png'\n",
    "# plt.savefig(fn, bbox_inches='tight', dpi = 600)\n",
    "plt.show()"
   ]
  },
  {
   "cell_type": "code",
   "execution_count": null,
   "metadata": {},
   "outputs": [],
   "source": []
  },
  {
   "cell_type": "code",
   "execution_count": null,
   "metadata": {},
   "outputs": [],
   "source": []
  },
  {
   "cell_type": "markdown",
   "metadata": {},
   "source": [
    "# Build NN for predict multi-classes\n",
    "\n",
    "| input | layer1 | layer2 | layer3/output | target |\n",
    "|-------|--------|--------|---------------|--------|\n",
    "| X     | tanh   | relu   | loss function | y      |\n",
    "| CxC*N | d1     | d2     | d3=C          | C*Nx1  |\n"
   ]
  },
  {
   "cell_type": "markdown",
   "metadata": {},
   "source": [
    "## Calculate Feedforward\n",
    "$$\n",
    "\\begin{aligned} \n",
    "\\mathbf{Z}^{(1)} &=\\mathbf{W}^{(1) T} \\mathbf{X} +  \\mathbf{b}^{(1)}\\\\ \n",
    "\\mathbf{A}^{(1)} &=\\tanh \\left(\\mathbf{Z}^{(1)}\\right) \\\\ \n",
    "\\mathbf{Z}^{(2)} &=\\mathbf{W}^{(2) T} \\mathbf{A}^{(1)} +  \\mathbf{b}^{(2)}\\\\ \n",
    "\\mathbf{A}^{(2)} &=\\max \\left(\\mathbf{Z}^{(1)}, \\mathbf{0}\\right) \\\\ \n",
    "\\mathbf{Z}^{(3)} &=\\mathbf{W}^{(3) T} \\mathbf{A}^{(2)} +  \\mathbf{b}^{(3)}\\\\ \n",
    "\\hat{\\mathbf{Y}}=\\mathbf{A}^{(3)} &=\\operatorname{softmax}\\left(\\mathbf{Z}^{(3)}\\right) \n",
    "\\end{aligned}\n",
    "$$"
   ]
  },
  {
   "cell_type": "markdown",
   "metadata": {},
   "source": [
    "$$\n",
    "J \\triangleq J(\\mathbf{W}, \\mathbf{b} ; \\mathbf{X}, \\mathbf{Y})=-\\frac{1}{N} \\sum_{i=1}^{N} \\sum_{j=1}^{C} y_{j i} \\log \\left(\\hat{y}_{j i}\\right)\\\\\n",
    "J_{i}(\\mathrm{W})=J\\left(W ; x_{i}, y_{i}\\right)=-\\sum_{j=1}^{C} y_{j i} \\log \\left(\\frac{\\exp \\left(z_{j}\\right)}{\\sum_{k=1}^{C} \\exp \\left(z_{k}\\right)}\\right)=-\\sum_{j=1}^{C} y_{j i} z_{j}+\\log \\left(\\sum_{k=1}^{C} \\exp \\left(z_{k}\\right)\\right)\\\\\n",
    "\\begin{array}{c}{\\frac{\\partial\\left(J_{i}(\\mathrm{W})\\right)}{\\partial z_{j}}=-y_{j i}+\\frac{\\exp \\left(z_{j}\\right)}{\\sum_{k=1}^{C} \\exp \\left(z_{k}\\right)}=-y_{j i}+\\hat{y_{j i}} \\quad \\text { Therefore, } \\frac{\\partial(J(\\mathrm{W}))}{\\partial Z}=\\frac{1}{N}(-Y+\\hat{Y}}) \\end{array}\n",
    "$$"
   ]
  },
  {
   "cell_type": "markdown",
   "metadata": {},
   "source": [
    "## Calculate Backpropagation\n",
    "$$\n",
    "\\begin{aligned} \n",
    "\\mathbf{E}^{(3)} &=\\frac{\\partial J}{\\partial \\mathbf{Z}^{(3)}}=\\frac{1}{N}(\\hat{\\mathbf{Y}}-\\mathbf{Y}) \\\\ \n",
    "\\frac{\\partial J}{\\partial \\mathbf{W}^{(3)}} &=\\mathbf{A}^{(2)} \\mathbf{E}^{(3) T} \\\\ \n",
    "\\frac{\\partial J}{\\partial \\mathbf{b}^{(3)}} &=\\sum_{n=1}^{N} \\mathbf{e}_{n}^{(3)} \\\\ \n",
    "\\mathbf{E}^{(2)} &=\\left(\\mathbf{W}^{(3)} \\mathbf{E}^{(3)}\\right) \\odot f^{\\prime}\\left(\\mathbf{Z}^{(2)}\\right) \\\\ \n",
    "\\frac{\\partial J}{\\partial \\mathbf{W}^{(2)}} &=\\mathbf{A}^{(1)} \\mathbf{E}^{(2) T}\\\\ \n",
    "\\frac{\\partial J}{\\partial \\mathbf{b}^{(2)}} &=\\sum_{n=1}^{N} \\mathbf{e}_{n}^{(2)} \\\\\n",
    "\\mathbf{E}^{(1)} &=\\left(\\mathbf{W}^{(2)} \\mathbf{E}^{(2)}\\right) \\odot f^{\\prime}\\left(\\mathbf{Z}^{(1)}\\right) \\\\ \n",
    "\\frac{\\partial J}{\\partial \\mathbf{W}^{(1)}} &=\\mathbf{A}^{(0)} \\mathbf{E}^{(1) T}=\\mathbf{X} \\mathbf{E}^{(1) T} \\\\ \n",
    "\\frac{\\partial J}{\\partial \\mathbf{b}^{(1)}} &=\\sum_{n=1}^{N} \\mathbf{e}_{n}^{(1)} \\\\\n",
    "\\end{aligned}\n",
    "$$\n"
   ]
  },
  {
   "cell_type": "code",
   "execution_count": null,
   "metadata": {},
   "outputs": [],
   "source": []
  },
  {
   "cell_type": "code",
   "execution_count": 112,
   "metadata": {},
   "outputs": [
    {
     "data": {
      "image/png": "[encoded data removed]",
      "text/plain": [
       "<Figure size 432x288 with 1 Axes>"
      ]
     },
     "metadata": {},
     "output_type": "display_data"
    }
   ],
   "source": [
    "# To support both python 2 and python 3\n",
    "from __future__ import division, print_function, unicode_literals\n",
    "import math\n",
    "import numpy as np\n",
    "import matplotlib.pyplot as plt\n",
    "\n",
    "N = 100 # number of points per class\n",
    "d0 = 2 # dimensionality\n",
    "C = 3 # number of classes\n",
    "X = np.zeros((d0, N*C)) # data matrix (each row = single example)\n",
    "y = np.zeros(N*C, dtype='uint8') # class labels\n",
    "\n",
    "for j in range(C):\n",
    "    ix = range(N*j,N*(j+1))\n",
    "    r = np.linspace(0.0,1,N) # radius\n",
    "    t = np.linspace(j*4,(j+1)*4,N) + np.random.randn(N)*0.2 # theta\n",
    "    X[:,ix] = np.c_[r*np.sin(t), r*np.cos(t)].T\n",
    "    y[ix] = j\n",
    "# lets visualize the data:\n",
    "# plt.scatter(X[:N, 0], X[:N, 1], c=y[:N], s=40, cmap=plt.cm.Spectral)\n",
    "\n",
    "plt.plot(X[0, :N], X[1, :N], 'bs', markersize = 7);\n",
    "plt.plot(X[0, N:2*N], X[1, N:2*N], 'ro', markersize = 7);\n",
    "plt.plot(X[0, 2*N:], X[1, 2*N:], 'g^', markersize = 7);\n",
    "# plt.axis('off')\n",
    "plt.xlim([-1.5, 1.5])\n",
    "plt.ylim([-1.5, 1.5])\n",
    "cur_axes = plt.gca()\n",
    "cur_axes.axes.get_xaxis().set_ticks([])\n",
    "cur_axes.axes.get_yaxis().set_ticks([])\n",
    "\n",
    "# plt.savefig('EX.png', bbox_inches='tight', dpi = 600)\n",
    "plt.show()\n"
   ]
  },
  {
   "cell_type": "code",
   "execution_count": 113,
   "metadata": {},
   "outputs": [],
   "source": [
    "import numpy as np\n",
    "\n",
    "## One-hot coding\n",
    "from scipy import sparse \n",
    "def convert_labels(y, C = 3):\n",
    "    Y = sparse.coo_matrix((np.ones_like(y), \n",
    "        (y, np.arange(len(y)))), shape = (C, len(y))).toarray()\n",
    "    return Y \n",
    "\n",
    "# tanh\n",
    "def tanh(x):\n",
    "    return np.tanh(x)\n",
    "def tanh_prime(x):\n",
    "    return 1-np.tanh(x)**2\n",
    "\n",
    "# RELU\n",
    "def relu(x):\n",
    "    return np.maximum(x,0)\n",
    "def relu_prime(x):\n",
    "    x[x<=0] = 0\n",
    "    x[x>0] = 1\n",
    "    return x\n",
    "\n",
    "# sofftmax\n",
    "def softmax(V):\n",
    "    e_V = np.exp(V - np.max(V, axis = 0, keepdims = True))\n",
    "    Z = e_V / e_V.sum(axis = 0)\n",
    "    return Z\n",
    "\n",
    "# cost or loss Softmax Regression  \n",
    "def loss_crossentropy(Y, Yhat):    \n",
    "    return -np.sum(Y*np.log(Yhat))/Y.shape[1]\n",
    "\n"
   ]
  },
  {
   "cell_type": "code",
   "execution_count": 114,
   "metadata": {},
   "outputs": [
    {
     "name": "stdout",
     "output_type": "stream",
     "text": [
      "iter 0, loss: 1.098610\n",
      "iter 1000, loss: 0.030498\n",
      "iter 2000, loss: 0.025659\n",
      "iter 3000, loss: 0.021343\n",
      "iter 4000, loss: 0.018608\n",
      "training accuracy: 99.33 %\n"
     ]
    }
   ],
   "source": [
    "d0 = 2\n",
    "d1 = d2 =  h = 100 # size of hidden layer \n",
    "d3 = C = 3\n",
    "# initialize parameters randomely \n",
    "W1 = 0.01*np.random.randn(d0, d1)\n",
    "b1 = np.zeros((d1, 1))\n",
    "W2 = 0.01*np.random.randn(d1, d2)\n",
    "b2 = np.zeros((d2, 1))\n",
    "W3 = 0.01*np.random.randn(d2, d3)\n",
    "b3 = np.zeros((d3, 1))\n",
    "\n",
    "# X = X.T # each column of X is a data point \n",
    "Y = convert_labels(y, C)\n",
    "N = X.shape[1]\n",
    "eta = 1 # learning rate \n",
    "for i in range(5000):\n",
    "    ## Feedforward \n",
    "    Z1 = np.dot(W1.T, X) + b1 \n",
    "    A1 = tanh(Z1)\n",
    "    Z2 = np.dot(W2.T, A1) + b2\n",
    "    A2 = relu(Z2)\n",
    "    Z3 = np.dot(W3.T, A2) + b3\n",
    "    # Yhat = A3\n",
    "    Yhat = softmax(Z3)\n",
    "    \n",
    "    # compute the loss: average cross-entropy loss\n",
    "    loss = loss_crossentropy(Y, Yhat)\n",
    "    \n",
    "    # print loss after each 1000 iterations\n",
    "    if i %1000 == 0: \n",
    "        print(\"iter %d, loss: %f\" %(i, loss))\n",
    "    \n",
    "    # backpropagation\n",
    "    E3 = (Yhat - Y )/N\n",
    "    dW3 = np.dot(A2, E3.T)\n",
    "    db3 = np.sum(E3, axis = 1, keepdims = True)\n",
    "    E2 = np.dot(W3, E3)*relu_prime(Z2)\n",
    "    dW2 = np.dot(A1, E2.T)\n",
    "    db2 = np.sum(E2, axis = 1, keepdims = True)\n",
    "    E1 = np.dot(W2, E2)*tanh_prime(Z1)\n",
    "    dW1 = np.dot(X, E1.T)\n",
    "    db1 = np.sum(E1, axis = 1, keepdims = True)\n",
    "    \n",
    "    # Gradient Descent update \n",
    "    # import pdb; pdb.set_trace()  # breakpoint 47741f63 //\n",
    "    W3 += -eta*dW3\n",
    "    b3 += -eta*db3\n",
    "    W2 += -eta*dW2\n",
    "    b2 += -eta*db2\n",
    "    W1 += -eta*dW1 \n",
    "    b1 += -eta*db1 \n",
    "    \n",
    "\n",
    "## Feedforward \n",
    "Z1 = np.dot(W1.T, X) + b1 \n",
    "A1 = tanh(Z1)\n",
    "Z2 = np.dot(W2.T, A1) + b2\n",
    "A2 = relu(Z2)\n",
    "Z3 = np.dot(W3.T, A2) + b3\n",
    "# Yhat = A3\n",
    "Yhat = softmax(Z3)\n",
    "predicted_class = np.argmax(Yhat, axis=0)\n",
    "acc = (100*np.mean(predicted_class == y))\n",
    "print('training accuracy: %.2f %%' % acc)\n",
    "\n"
   ]
  },
  {
   "cell_type": "code",
   "execution_count": 115,
   "metadata": {},
   "outputs": [
    {
     "name": "stdout",
     "output_type": "stream",
     "text": [
      "(2, 14400)\n",
      "100\n"
     ]
    },
    {
     "data": {
      "image/png": "[encoded data removed]",
      "text/plain": [
       "<Figure size 432x288 with 1 Axes>"
      ]
     },
     "metadata": {},
     "output_type": "display_data"
    }
   ],
   "source": [
    "# Visualize results \n",
    "#Visualize \n",
    "\n",
    "xm = np.arange(-1.5, 1.5, 0.025)\n",
    "xlen = len(xm)\n",
    "ym = np.arange(-1.5, 1.5, 0.025)\n",
    "ylen = len(ym)\n",
    "xx, yy = np.meshgrid(xm, ym)\n",
    "\n",
    "\n",
    "# xx, yy = np.meshgrid(np.arange(x_min, x_max, h), np.arange(y_min, y_max, h))\n",
    "# xx.ravel(), yy.ravel()\n",
    "# print(np.ones((1, xx.size)).shape)\n",
    "xx1 = xx.ravel().reshape(1, xx.size)\n",
    "yy1 = yy.ravel().reshape(1, yy.size)\n",
    "\n",
    "# print(xx.shape, yy.shape)\n",
    "# XX = np.concatenate((np.ones((1, xx.size)), xx1, yy1), axis = 0)\n",
    "\n",
    "X0 = np.vstack((xx1, yy1))\n",
    "print(X0.shape)\n",
    "## Feedforward \n",
    "Z1 = np.dot(W1.T, X0) + b1 \n",
    "A1 = tanh(Z1)\n",
    "Z2 = np.dot(W2.T, A1) + b2\n",
    "A2 = relu(Z2)\n",
    "Z3 = np.dot(W3.T, A2) + b3\n",
    "# Yhat = A3\n",
    "Yhat = softmax(Z3)\n",
    "Z = np.argmax(Yhat, axis=0)\n",
    "\n",
    "Z = Z.reshape(xx.shape)\n",
    "CS = plt.contourf(xx, yy, Z, 200, cmap='jet', alpha = .1)\n",
    "\n",
    "# Plot also the training points\n",
    "# plt.scatter(X[:, 1], X[:, 2], c=Y, edgecolors='k', cmap=plt.cm.Paired)\n",
    "# plt.xlabel('Sepal length')\n",
    "# plt.ylabel('Sepal width')\n",
    "\n",
    "# X = X.T\n",
    "N = 100\n",
    "print(N)\n",
    "\n",
    "\n",
    "plt.plot(X[0, :N], X[1, :N], 'bs', markersize = 7);\n",
    "plt.plot(X[0, N:2*N], X[1, N:2*N], 'g^', markersize = 7);\n",
    "plt.plot(X[0, 2*N:], X[1, 2*N:], 'ro', markersize = 7);\n",
    "# plt.axis('off')\n",
    "plt.xlim([-1.5, 1.5])\n",
    "plt.ylim([-1.5, 1.5])\n",
    "cur_axes = plt.gca()\n",
    "cur_axes.axes.get_xaxis().set_ticks([])\n",
    "cur_axes.axes.get_yaxis().set_ticks([])\n",
    "\n",
    "plt.xlim(-1.5, 1.5)\n",
    "plt.ylim(-1.5, 1.5)\n",
    "plt.xticks(())\n",
    "plt.yticks(())\n",
    "plt.title('#hidden units = %d, accuracy = %.2f %%' %(d1, acc))\n",
    "# plt.axis('equal')\n",
    "# display(X[1:, :], original_label)\n",
    "fn = 'ex_res'+ str(d1) + '.png'\n",
    "# plt.savefig(fn, bbox_inches='tight', dpi = 600)\n",
    "plt.show()"
   ]
  }
 ],
 "metadata": {
  "kernelspec": {
   "display_name": "Python 3",
   "language": "python",
   "name": "python3"
  },
  "language_info": {
   "codemirror_mode": {
    "name": "ipython",
    "version": 3
   },
   "file_extension": ".py",
   "mimetype": "text/x-python",
   "name": "python",
   "nbconvert_exporter": "python",
   "pygments_lexer": "ipython3",
   "version": "3.7.4"
  }
 },
 "nbformat": 4,
 "nbformat_minor": 4
}
