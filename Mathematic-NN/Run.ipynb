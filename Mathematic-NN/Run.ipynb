{
 "cells": [
  {
   "cell_type": "code",
   "execution_count": 1,
   "metadata": {},
   "outputs": [
    {
     "name": "stdout",
     "output_type": "stream",
     "text": [
      "README.md              conv_layer.py          fc_layer.py\n",
      "Run.ipynb              example_conv.py        flatten_layer.py\n",
      "\u001b[34m__pycache__\u001b[m\u001b[m/           example_mnist_conv.py  layer.py\n",
      "activation_layer.py    example_mnist_fc.py    losses.py\n",
      "activations.py         example_xor.py         network.py\n"
     ]
    }
   ],
   "source": [
    "ls\n"
   ]
  },
  {
   "cell_type": "code",
   "execution_count": 3,
   "metadata": {
    "collapsed": true,
    "jupyter": {
     "outputs_hidden": true
    }
   },
   "outputs": [
    {
     "name": "stdout",
     "output_type": "stream",
     "text": [
      "Collecting keras\n",
      "\u001b[?25l  Downloading https://files.pythonhosted.org/packages/1b/18/2e1ef121e5560ac24c7ac9e363aa5fa7006c40563c989e7211aba95b793a/Keras-2.3.0-py2.py3-none-any.whl (377kB)\n",
      "\u001b[K     |████████████████████████████████| 378kB 148kB/s eta 0:00:01\n",
      "\u001b[?25hRequirement already satisfied: scipy>=0.14 in /usr/local/lib/python3.7/site-packages (from keras) (1.3.1)\n",
      "Requirement already satisfied: keras-applications>=1.0.6 in /usr/local/lib/python3.7/site-packages (from keras) (1.0.8)\n",
      "Requirement already satisfied: numpy>=1.9.1 in /usr/local/lib/python3.7/site-packages (from keras) (1.17.2)\n",
      "Requirement already satisfied: six>=1.9.0 in /usr/local/Cellar/ipython/7.8.0/libexec/vendor/lib/python3.7/site-packages (from keras) (1.12.0)\n",
      "Requirement already satisfied: keras-preprocessing>=1.0.5 in /usr/local/lib/python3.7/site-packages (from keras) (1.1.0)\n",
      "Collecting pyyaml (from keras)\n",
      "\u001b[?25l  Downloading https://files.pythonhosted.org/packages/e3/e8/b3212641ee2718d556df0f23f78de8303f068fe29cdaa7a91018849582fe/PyYAML-5.1.2.tar.gz (265kB)\n",
      "\u001b[K     |████████████████████████████████| 266kB 1.1MB/s eta 0:00:01\n",
      "\u001b[?25hRequirement already satisfied: h5py in /usr/local/lib/python3.7/site-packages (from keras) (2.10.0)\n",
      "Building wheels for collected packages: pyyaml\n",
      "  Building wheel for pyyaml (setup.py) ... \u001b[?25ldone\n",
      "\u001b[?25h  Stored in directory: /Users/camerax/Library/Caches/pip/wheels/d9/45/dd/65f0b38450c47cf7e5312883deb97d065e030c5cca0a365030\n",
      "Successfully built pyyaml\n",
      "Installing collected packages: pyyaml, keras\n",
      "Successfully installed keras-2.3.0 pyyaml-5.1.2\n",
      "Note: you may need to restart the kernel to use updated packages.\n"
     ]
    }
   ],
   "source": [
    "pip install keras"
   ]
  },
  {
   "cell_type": "markdown",
   "metadata": {},
   "source": [
    "# Mathematics"
   ]
  },
  {
   "cell_type": "code",
   "execution_count": null,
   "metadata": {},
   "outputs": [],
   "source": []
  },
  {
   "cell_type": "markdown",
   "metadata": {},
   "source": [
    "# Build NN with class()"
   ]
  },
  {
   "cell_type": "code",
   "execution_count": null,
   "metadata": {},
   "outputs": [],
   "source": [
    "import numpy as np\n",
    "\n",
    "from network import Network\n",
    "from fc_layer import FCLayer\n",
    "from activation_layer import ActivationLayer\n",
    "from activations import tanh, tanh_prime\n",
    "from losses import mse, mse_prime\n",
    "\n",
    "from keras.datasets import mnist\n",
    "from keras.utils import np_utils\n",
    "\n",
    "\n",
    "\n"
   ]
  },
  {
   "cell_type": "code",
   "execution_count": 2,
   "metadata": {},
   "outputs": [
    {
     "name": "stderr",
     "output_type": "stream",
     "text": [
      "Using TensorFlow backend.\n",
      "/usr/local/lib/python3.7/site-packages/tensorflow/python/framework/dtypes.py:516: FutureWarning: Passing (type, 1) or '1type' as a synonym of type is deprecated; in a future version of numpy, it will be understood as (type, (1,)) / '(1,)type'.\n",
      "  _np_qint8 = np.dtype([(\"qint8\", np.int8, 1)])\n",
      "/usr/local/lib/python3.7/site-packages/tensorflow/python/framework/dtypes.py:517: FutureWarning: Passing (type, 1) or '1type' as a synonym of type is deprecated; in a future version of numpy, it will be understood as (type, (1,)) / '(1,)type'.\n",
      "  _np_quint8 = np.dtype([(\"quint8\", np.uint8, 1)])\n",
      "/usr/local/lib/python3.7/site-packages/tensorflow/python/framework/dtypes.py:518: FutureWarning: Passing (type, 1) or '1type' as a synonym of type is deprecated; in a future version of numpy, it will be understood as (type, (1,)) / '(1,)type'.\n",
      "  _np_qint16 = np.dtype([(\"qint16\", np.int16, 1)])\n",
      "/usr/local/lib/python3.7/site-packages/tensorflow/python/framework/dtypes.py:519: FutureWarning: Passing (type, 1) or '1type' as a synonym of type is deprecated; in a future version of numpy, it will be understood as (type, (1,)) / '(1,)type'.\n",
      "  _np_quint16 = np.dtype([(\"quint16\", np.uint16, 1)])\n",
      "/usr/local/lib/python3.7/site-packages/tensorflow/python/framework/dtypes.py:520: FutureWarning: Passing (type, 1) or '1type' as a synonym of type is deprecated; in a future version of numpy, it will be understood as (type, (1,)) / '(1,)type'.\n",
      "  _np_qint32 = np.dtype([(\"qint32\", np.int32, 1)])\n",
      "/usr/local/lib/python3.7/site-packages/tensorflow/python/framework/dtypes.py:525: FutureWarning: Passing (type, 1) or '1type' as a synonym of type is deprecated; in a future version of numpy, it will be understood as (type, (1,)) / '(1,)type'.\n",
      "  np_resource = np.dtype([(\"resource\", np.ubyte, 1)])\n",
      "/usr/local/lib/python3.7/site-packages/tensorboard/compat/tensorflow_stub/dtypes.py:541: FutureWarning: Passing (type, 1) or '1type' as a synonym of type is deprecated; in a future version of numpy, it will be understood as (type, (1,)) / '(1,)type'.\n",
      "  _np_qint8 = np.dtype([(\"qint8\", np.int8, 1)])\n",
      "/usr/local/lib/python3.7/site-packages/tensorboard/compat/tensorflow_stub/dtypes.py:542: FutureWarning: Passing (type, 1) or '1type' as a synonym of type is deprecated; in a future version of numpy, it will be understood as (type, (1,)) / '(1,)type'.\n",
      "  _np_quint8 = np.dtype([(\"quint8\", np.uint8, 1)])\n",
      "/usr/local/lib/python3.7/site-packages/tensorboard/compat/tensorflow_stub/dtypes.py:543: FutureWarning: Passing (type, 1) or '1type' as a synonym of type is deprecated; in a future version of numpy, it will be understood as (type, (1,)) / '(1,)type'.\n",
      "  _np_qint16 = np.dtype([(\"qint16\", np.int16, 1)])\n",
      "/usr/local/lib/python3.7/site-packages/tensorboard/compat/tensorflow_stub/dtypes.py:544: FutureWarning: Passing (type, 1) or '1type' as a synonym of type is deprecated; in a future version of numpy, it will be understood as (type, (1,)) / '(1,)type'.\n",
      "  _np_quint16 = np.dtype([(\"quint16\", np.uint16, 1)])\n",
      "/usr/local/lib/python3.7/site-packages/tensorboard/compat/tensorflow_stub/dtypes.py:545: FutureWarning: Passing (type, 1) or '1type' as a synonym of type is deprecated; in a future version of numpy, it will be understood as (type, (1,)) / '(1,)type'.\n",
      "  _np_qint32 = np.dtype([(\"qint32\", np.int32, 1)])\n",
      "/usr/local/lib/python3.7/site-packages/tensorboard/compat/tensorflow_stub/dtypes.py:550: FutureWarning: Passing (type, 1) or '1type' as a synonym of type is deprecated; in a future version of numpy, it will be understood as (type, (1,)) / '(1,)type'.\n",
      "  np_resource = np.dtype([(\"resource\", np.ubyte, 1)])\n"
     ]
    },
    {
     "name": "stdout",
     "output_type": "stream",
     "text": [
      "Downloading data from https://s3.amazonaws.com/img-datasets/mnist.npz\n",
      "11493376/11490434 [==============================] - 18s 2us/step\n",
      "epoch 1/100   error=0.415574\n",
      "epoch 2/100   error=0.366012\n",
      "epoch 3/100   error=0.334674\n",
      "epoch 4/100   error=0.294232\n",
      "epoch 5/100   error=0.267272\n",
      "epoch 6/100   error=0.190702\n",
      "epoch 7/100   error=0.165563\n",
      "epoch 8/100   error=0.148569\n",
      "epoch 9/100   error=0.136671\n",
      "epoch 10/100   error=0.121265\n",
      "epoch 11/100   error=0.122247\n",
      "epoch 12/100   error=0.106438\n",
      "epoch 13/100   error=0.101356\n",
      "epoch 14/100   error=0.096315\n",
      "epoch 15/100   error=0.095063\n",
      "epoch 16/100   error=0.091229\n",
      "epoch 17/100   error=0.087531\n",
      "epoch 18/100   error=0.085973\n",
      "epoch 19/100   error=0.081719\n",
      "epoch 20/100   error=0.078349\n",
      "epoch 21/100   error=0.076962\n",
      "epoch 22/100   error=0.076447\n",
      "epoch 23/100   error=0.073839\n",
      "epoch 24/100   error=0.071958\n",
      "epoch 25/100   error=0.069724\n",
      "epoch 26/100   error=0.068801\n",
      "epoch 27/100   error=0.067691\n",
      "epoch 28/100   error=0.065672\n",
      "epoch 29/100   error=0.065418\n",
      "epoch 30/100   error=0.063693\n",
      "epoch 31/100   error=0.062036\n",
      "epoch 32/100   error=0.060441\n",
      "epoch 33/100   error=0.059789\n",
      "epoch 34/100   error=0.057791\n",
      "epoch 35/100   error=0.057474\n",
      "epoch 36/100   error=0.056801\n",
      "epoch 37/100   error=0.056599\n",
      "epoch 38/100   error=0.055715\n",
      "epoch 39/100   error=0.054053\n",
      "epoch 40/100   error=0.052843\n",
      "epoch 41/100   error=0.052155\n",
      "epoch 42/100   error=0.053565\n",
      "epoch 43/100   error=0.053313\n",
      "epoch 44/100   error=0.051764\n",
      "epoch 45/100   error=0.051804\n",
      "epoch 46/100   error=0.050388\n",
      "epoch 47/100   error=0.049573\n",
      "epoch 48/100   error=0.049461\n",
      "epoch 49/100   error=0.049440\n",
      "epoch 50/100   error=0.047588\n",
      "epoch 51/100   error=0.048446\n",
      "epoch 52/100   error=0.047818\n",
      "epoch 53/100   error=0.046581\n",
      "epoch 54/100   error=0.044946\n",
      "epoch 55/100   error=0.046802\n",
      "epoch 56/100   error=0.046599\n",
      "epoch 57/100   error=0.043661\n",
      "epoch 58/100   error=0.043643\n",
      "epoch 59/100   error=0.043322\n",
      "epoch 60/100   error=0.042254\n",
      "epoch 61/100   error=0.042418\n",
      "epoch 62/100   error=0.042208\n",
      "epoch 63/100   error=0.040841\n",
      "epoch 64/100   error=0.041213\n",
      "epoch 65/100   error=0.040431\n",
      "epoch 66/100   error=0.040098\n",
      "epoch 67/100   error=0.039229\n",
      "epoch 68/100   error=0.038846\n",
      "epoch 69/100   error=0.040409\n",
      "epoch 70/100   error=0.038082\n",
      "epoch 71/100   error=0.038231\n",
      "epoch 72/100   error=0.037476\n",
      "epoch 73/100   error=0.037367\n",
      "epoch 74/100   error=0.036701\n",
      "epoch 75/100   error=0.036683\n",
      "epoch 76/100   error=0.035861\n",
      "epoch 77/100   error=0.036228\n",
      "epoch 78/100   error=0.035152\n",
      "epoch 79/100   error=0.036107\n",
      "epoch 80/100   error=0.035015\n",
      "epoch 81/100   error=0.034646\n",
      "epoch 82/100   error=0.034434\n",
      "epoch 83/100   error=0.033531\n",
      "epoch 84/100   error=0.034775\n",
      "epoch 85/100   error=0.033515\n",
      "epoch 86/100   error=0.033496\n",
      "epoch 87/100   error=0.033076\n",
      "epoch 88/100   error=0.033199\n",
      "epoch 89/100   error=0.033795\n",
      "epoch 90/100   error=0.032582\n",
      "epoch 91/100   error=0.031845\n",
      "epoch 92/100   error=0.031743\n",
      "epoch 93/100   error=0.031961\n",
      "epoch 94/100   error=0.031584\n",
      "epoch 95/100   error=0.030807\n",
      "epoch 96/100   error=0.031365\n",
      "epoch 97/100   error=0.030445\n",
      "epoch 98/100   error=0.029818\n",
      "epoch 99/100   error=0.030355\n",
      "epoch 100/100   error=0.030464\n",
      "\n",
      "\n",
      "predicted values : \n",
      "[array([[-0.01438417, -0.13869019, -0.0199747 , -0.0431407 , -0.03841188,\n",
      "        -0.10757208, -0.14751041,  0.98431197,  0.0476017 ,  0.15889767]]), array([[ 0.78610696, -0.16879182,  0.92413423, -0.0589573 , -0.01627886,\n",
      "        -0.08466556, -0.06520471,  0.25326541, -0.17542621,  0.3029853 ]]), array([[-0.01789737,  0.96706587, -0.1041561 , -0.08694976,  0.01975586,\n",
      "        -0.06958073, -0.02754441,  0.24199728,  0.02474058,  0.18328781]])]\n",
      "true values : \n",
      "[[0. 0. 0. 0. 0. 0. 0. 1. 0. 0.]\n",
      " [0. 0. 1. 0. 0. 0. 0. 0. 0. 0.]\n",
      " [0. 1. 0. 0. 0. 0. 0. 0. 0. 0.]]\n"
     ]
    }
   ],
   "source": [
    "%run example_mnist_conv.py"
   ]
  }
 ],
 "metadata": {
  "kernelspec": {
   "display_name": "Python 3",
   "language": "python",
   "name": "python3"
  },
  "language_info": {
   "codemirror_mode": {
    "name": "ipython",
    "version": 3
   },
   "file_extension": ".py",
   "mimetype": "text/x-python",
   "name": "python",
   "nbconvert_exporter": "python",
   "pygments_lexer": "ipython3",
   "version": "3.7.4"
  }
 },
 "nbformat": 4,
 "nbformat_minor": 4
}
