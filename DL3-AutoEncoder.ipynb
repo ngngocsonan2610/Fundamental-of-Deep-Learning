{
 "cells": [
  {
   "cell_type": "markdown",
   "metadata": {
    "colab_type": "text",
    "id": "Km2CN1Kain6U"
   },
   "source": [
    "# Guide\n",
    "- [Deep inside: Autoencoders](https://towardsdatascience.com/deep-inside-autoencoders-7e41f319999f)\n",
    "- [Autoencoders: Neural Networks for Unsupervised Learning](https://medium.com/intuitive-deep-learning/autoencoders-neural-networks-for-unsupervised-learning-83af5f092f0b)\n",
    "- [Variational Autoencoder (VAE) cơ bản](https://forum.machinelearningcoban.com/t/variational-autoencoder-vae-co-ban/6494)\n",
    "\n"
   ]
  },
  {
   "cell_type": "markdown",
   "metadata": {
    "colab_type": "text",
    "id": "7AUwFllRdshe"
   },
   "source": [
    "# Autoencoder (AE) \n",
    "AE are neural networks that aims to copy their inputs to their outputs.\n",
    "\n",
    "- Ý tưởng:\n",
    "  - They work by compressing the input -> into a **laten-space reprentation**\n",
    "  - Then ->, recontructing the output from this presentation.\n",
    "\n",
    "- What are autoencoders used for ?\n",
    "  - data denoising\n",
    "  - dimensionality reduction\n",
    "  - autoencoders will do a poor job for image compression\n"
   ]
  },
  {
   "cell_type": "code",
   "execution_count": null,
   "metadata": {
    "colab": {},
    "colab_type": "code",
    "id": "m4bLPNlkdSwu"
   },
   "outputs": [],
   "source": []
  },
  {
   "cell_type": "markdown",
   "metadata": {
    "colab_type": "text",
    "id": "464N2lASC-Fi"
   },
   "source": [
    "# Variational AE\n",
    "Tư tưởng chính của VAE là thay vì tìm một điểm biểu diễn trong không gian ẩn cho một điểm dữ liệu trong không gian gốc, chúng ta sẽ đi tìm một phân phối xác suất cho điểm dữ liệu đó. \n",
    "\n",
    "Loss function của VAE gồm 2 phần:\n",
    "- Reconstruction loss (giống với Autoencoder thông thường)\n",
    "- KL loss mình đã trình bày phía trên\n",
    "\n",
    "\n",
    "Sources:\n",
    "- [Variational Autoencoder (VAE) cơ bản](https://forum.machinelearningcoban.com/t/variational-autoencoder-vae-co-ban/6494)\n",
    "- [read more](https://www.cs.princeton.edu/courses/archive/spring17/cos598E/alex.pdf)"
   ]
  }
 ],
 "metadata": {
  "colab": {
   "collapsed_sections": [],
   "name": "AutoEncoder.ipynb",
   "provenance": []
  },
  "kernelspec": {
   "display_name": "Python 3",
   "language": "python",
   "name": "python3"
  },
  "language_info": {
   "codemirror_mode": {
    "name": "ipython",
    "version": 3
   },
   "file_extension": ".py",
   "mimetype": "text/x-python",
   "name": "python",
   "nbconvert_exporter": "python",
   "pygments_lexer": "ipython3",
   "version": "3.8.3"
  }
 },
 "nbformat": 4,
 "nbformat_minor": 4
}
